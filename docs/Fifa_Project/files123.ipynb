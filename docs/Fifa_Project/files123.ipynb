{
 "cells": [
  {
   "cell_type": "code",
   "execution_count": 156,
   "metadata": {},
   "outputs": [
    {
     "name": "stdout",
     "output_type": "stream",
     "text": [
      "[23.0, 26.0, 4.0, 19.0, 22.0, 25.0, 28.0, 33.0]\n",
      "<class 'list'>\n"
     ]
    }
   ],
   "source": [
    "#2018 Data\n",
    "import pandas as pd\n",
    "import matplotlib.pyplot as plt\n",
    "import seaborn as sb\n",
    "\n",
    "\n",
    "df0 = pd.read_html('https://fbref.com/en/squads/b1b36dcd/2018/France-Men-Stats')\n",
    "\n",
    "\n",
    "df0[0].to_json('2018.json')\n",
    "data0 = pd.read_json('2018.json')\n",
    "data0 = pd.DataFrame(data0)\n",
    "data0 = data0.drop(data0.columns[[0,1,3,4,5,6,7,8,9,10,11,12,13,14,15,16,17,18,19,20,21,22,23,24,25,26,27,28]], axis = 1)\n",
    "data0 = data0.drop(labels=[23,24], axis=0)\n",
    "data0 = round(data0.describe())\n",
    "data0 = data0.rename(columns={str(('Unnamed: 2_level_0', 'Age')):'Age'})\n",
    "data0 = data0.Age.values.tolist()\n",
    "print(data0)\n",
    "print(type(data0))"
   ]
  },
  {
   "cell_type": "code",
   "execution_count": 157,
   "metadata": {},
   "outputs": [
    {
     "name": "stdout",
     "output_type": "stream",
     "text": [
      "[23.0, 27.0, 3.0, 22.0, 24.0, 27.0, 29.0, 32.0]\n",
      "<class 'list'>\n"
     ]
    }
   ],
   "source": [
    "#2014 Data\n",
    "import pandas as pd\n",
    "\n",
    "df1 = pd.read_html('https://fbref.com/en/squads/c1e40422/2018/Germany-Men-Stats')\n",
    "df1[0].to_json('2014.json')\n",
    "data1 = pd.read_json('2014.json')\n",
    "data1= pd.DataFrame(data1)\n",
    "data1 = data1.drop(data1.columns[[0,1,3,4,5,6,7,8,9,10,11,12,13,14,15,16,17,18,19,20,21,22,23,24,25,26,27,28]], axis = 1)\n",
    "data1 = data1.drop(labels=[23,24], axis=0)\n",
    "data1 = round(data1.describe())\n",
    "data1 = data1.rename(columns={str(('Unnamed: 2_level_0', 'Age')):'Age'})\n",
    "data1 = data1.Age.values.tolist()\n",
    "print(data1)\n",
    "print(type(data1))\n",
    "\n"
   ]
  },
  {
   "cell_type": "code",
   "execution_count": 158,
   "metadata": {},
   "outputs": [
    {
     "name": "stdout",
     "output_type": "stream",
     "text": [
      "[23.0, 26.0, 3.0, 21.0, 24.0, 26.0, 28.0, 32.0]\n",
      "<class 'list'>\n"
     ]
    }
   ],
   "source": [
    "1#2010 Data\n",
    "import pandas as pd\n",
    "\n",
    "df2 = pd.read_html('https://fbref.com/en/squads/b561dd30/2010/Spain-Men-Stats')\n",
    "df2[0].to_json('2010.json')\n",
    "data2 = pd.read_json('2010.json')\n",
    "data2 = pd.DataFrame(data2)\n",
    "data2 = data2.drop(data2.columns[[0,1,3,4,5,6,7,8,9,10,11,12,13,14,15,16,17,18,19]], axis = 1)\n",
    "data2 = data2.drop(labels=[23,24], axis=0)\n",
    "data2 = round(data2.describe())\n",
    "data2 = data2.rename(columns={str(('Unnamed: 2_level_0', 'Age')):'Age'})\n",
    "data2 = data2.Age.values.tolist()\n",
    "print(data2)\n",
    "print(type(data2))\n"
   ]
  },
  {
   "cell_type": "code",
   "execution_count": 159,
   "metadata": {},
   "outputs": [
    {
     "name": "stdout",
     "output_type": "stream",
     "text": [
      "[23.0, 28.0, 3.0, 22.0, 26.0, 28.0, 30.0, 36.0]\n",
      "<class 'list'>\n"
     ]
    }
   ],
   "source": [
    "#2006 Data\n",
    "\n",
    "import pandas as pd\n",
    "\n",
    "df3 = pd.read_html('https://fbref.com/en/squads/998c5958/2006/Italy-Men-Stats')\n",
    "df3[0].to_json('2006.json')\n",
    "data3 = pd.read_json('2006.json')\n",
    "data3 = pd.DataFrame(data3)\n",
    "data3 = data3.drop(data3.columns[[0,1,3,4,5,6,7,8,9,10,11,12,13,14,15,16,17,18,19,]], axis = 1)\n",
    "data3 = data3.drop(labels=[23,24], axis=0)\n",
    "data3 = round(data3.describe())\n",
    "data3 = data3.rename(columns={str(('Unnamed: 2_level_0', 'Age')):'Age'})\n",
    "data3 = data3.Age.values.tolist()\n",
    "print(data3)\n",
    "print(type(data3))"
   ]
  },
  {
   "cell_type": "code",
   "execution_count": 160,
   "metadata": {},
   "outputs": [
    {
     "name": "stdout",
     "output_type": "stream",
     "text": [
      "[23.0, 26.0, 3.0, 20.0, 24.0, 26.0, 28.0, 32.0]\n",
      "<class 'list'>\n"
     ]
    }
   ],
   "source": [
    "#2002 Data\n",
    "\n",
    "import pandas as pd\n",
    "\n",
    "df4 = pd.read_html('https://fbref.com/en/squads/304635c3/2002/Brazil-Men-Stats')\n",
    "df4[0].to_json('2002.json')\n",
    "data4 = pd.read_json('2002.json')\n",
    "data4 = pd.DataFrame(data4)\n",
    "data4 = data4.drop(data4.columns[[0,1,3,4,5,6,7,8,9,10,11,12,13,14,15,16,17,18,19]], axis = 1)\n",
    "data4 = data4.drop(labels=[23,24], axis=0)\n",
    "data4 = round(data4.describe())\n",
    "data4 = data4.rename(columns={str(('Unnamed: 2_level_0', 'Age')):'Age'})\n",
    "data4 = data4.Age.values.tolist()\n",
    "print(data4)\n",
    "print(type(data4))"
   ]
  },
  {
   "cell_type": "code",
   "execution_count": 161,
   "metadata": {},
   "outputs": [
    {
     "name": "stdout",
     "output_type": "stream",
     "text": [
      "[22.0, 27.0, 4.0, 20.0, 24.0, 27.0, 29.0, 35.0]\n",
      "<class 'list'>\n"
     ]
    }
   ],
   "source": [
    "#1998 Data\n",
    "\n",
    "import pandas as pd\n",
    "\n",
    "df5 = pd.read_html('https://fbref.com/en/squads/b1b36dcd/1998/France-Men-Stats')\n",
    "df5[0].to_json('1998.json')\n",
    "data5 = pd.read_json('1998.json')\n",
    "data5 = pd.DataFrame(data5)\n",
    "data5 = data5.drop(data5.columns[[0,1,3,4,5,6,7,8,9,10,11,12,13,14,15,16,17,18,19]], axis = 1)\n",
    "data5 = data5.drop(labels=[23,22], axis=0)\n",
    "data5 = round(data5.describe())\n",
    "data5 = data5.rename(columns={str(('Unnamed: 2_level_0', 'Age')):'Age'})\n",
    "data5 = data5.Age.values.tolist()\n",
    "print(data5)\n",
    "print(type(data5))"
   ]
  },
  {
   "cell_type": "code",
   "execution_count": 162,
   "metadata": {},
   "outputs": [
    {
     "name": "stdout",
     "output_type": "stream",
     "text": [
      "[22.0, 28.0, 4.0, 17.0, 26.0, 28.0, 30.0, 40.0]\n",
      "<class 'list'>\n"
     ]
    }
   ],
   "source": [
    "#1994 Data\n",
    "\n",
    "import pandas as pd\n",
    "\n",
    "df6 = pd.read_html('https://fbref.com/en/squads/304635c3/1994/Brazil-Men-Stats')\n",
    "df6[0].to_json('1994.json')\n",
    "data6 = pd.read_json('1994.json')\n",
    "data6 = pd.DataFrame(data6)\n",
    "data6 = data6.drop(data6.columns[[0,1,3,4,5,6,7,8,9,10,11,12,13,14,15,16,17,18,19]], axis = 1)\n",
    "data6 = data6.drop(labels=[23,22], axis=0)\n",
    "data6 = round(data6.describe())\n",
    "data6 = data6.rename(columns={str(('Unnamed: 2_level_0', 'Age')):'Age'})\n",
    "data6 = data6.Age.values.tolist()\n",
    "print(data6)\n",
    "print(type(data6))"
   ]
  },
  {
   "cell_type": "code",
   "execution_count": 163,
   "metadata": {},
   "outputs": [
    {
     "name": "stdout",
     "output_type": "stream",
     "text": [
      "[22.0, 27.0, 3.0, 22.0, 24.0, 28.0, 30.0, 33.0]\n",
      "<class 'list'>\n"
     ]
    }
   ],
   "source": [
    "#1990 Data\n",
    "\n",
    "import pandas as pd\n",
    "\n",
    "df7 = pd.read_html('https://fbref.com/en/squads/c1e40422/1990/Germany-Men-Stats')\n",
    "df7[0].to_json('1990.json')\n",
    "data7 = pd.read_json('1990.json')\n",
    "data7 = pd.DataFrame(data7)\n",
    "data7 = data7.drop(data7.columns[[0,1,3,4,5,6,7,8,9,10,11,12,13,14,15,16,17,18,19]], axis = 1)\n",
    "data7 = data7.drop(labels=[23,22],axis=0)\n",
    "data7 = round(data7.describe())\n",
    "data7 = data7.rename(columns={str(('Unnamed: 2_level_0', 'Age')):'Age'})\n",
    "data7 = data7.Age.values.tolist()\n",
    "print(data7)\n",
    "print(type(data7))"
   ]
  },
  {
   "cell_type": "code",
   "execution_count": 164,
   "metadata": {},
   "outputs": [
    {
     "name": "stdout",
     "output_type": "stream",
     "text": [
      "[22.0, 26.0, 4.0, 20.0, 23.0, 26.0, 29.0, 33.0]\n",
      "<class 'list'>\n"
     ]
    }
   ],
   "source": [
    "#1986 Data\n",
    "\n",
    "import pandas as pd\n",
    "\n",
    "df8 = pd.read_html('https://fbref.com/en/squads/f9fddd6e/1986/Argentina-Men-Stats')\n",
    "df8[0].to_json('1986.json')\n",
    "data8 = pd.read_json('1986.json')\n",
    "data8 = pd.DataFrame(data8)\n",
    "data8 = data8.drop(data8.columns[[0,1,3,4,5,6,7,8,9,10,11,12,13,14,15,16,17,18,19]], axis = 1)\n",
    "data8 = data8.drop(labels=[22,23], axis=0)\n",
    "data8 = round(data8.describe())\n",
    "data8 = data8.rename(columns={str(('Unnamed: 2_level_0', 'Age')):'Age'})\n",
    "data8 = data8.Age.values.tolist()\n",
    "print(data8)\n",
    "print(type(data8))"
   ]
  },
  {
   "cell_type": "code",
   "execution_count": 165,
   "metadata": {},
   "outputs": [
    {
     "name": "stdout",
     "output_type": "stream",
     "text": [
      "[22.0, 27.0, 5.0, 18.0, 24.0, 27.0, 29.0, 40.0]\n",
      "<class 'list'>\n"
     ]
    }
   ],
   "source": [
    "#1982 Data\n",
    "\n",
    "import pandas as pd\n",
    "\n",
    "df9 = pd.read_html('https://fbref.com/en/squads/998c5958/1982/Italy-Men-Stats')\n",
    "df9[0].to_json('1982.json')\n",
    "data9 = pd.read_json('1982.json')\n",
    "data9 = pd.DataFrame(data9)\n",
    "data9 = data9.drop(data9.columns[[0,1,3,4,5,6,7,8,9,10,11,12,13,14,15,16,17,18,19]], axis = 1)\n",
    "data9 = data9.drop(labels=[23,22], axis=0)\n",
    "data9 = round(data9.describe())\n",
    "data9 = data9.rename(columns={str(('Unnamed: 2_level_0', 'Age')):'Age'})\n",
    "data9 = data9.Age.values.tolist()\n",
    "print(data9)\n",
    "print(type(data0))"
   ]
  },
  {
   "cell_type": "code",
   "execution_count": 166,
   "metadata": {},
   "outputs": [
    {
     "name": "stdout",
     "output_type": "stream",
     "text": [
      "[22.0, 26.0, 2.0, 22.0, 24.0, 26.0, 27.0, 30.0]\n",
      "<class 'list'>\n"
     ]
    }
   ],
   "source": [
    "#1978 Data\n",
    "\n",
    "import pandas as pd\n",
    "\n",
    "df10 = pd.read_html('https://fbref.com/en/squads/f9fddd6e/1978/Argentina-Men-Stats')\n",
    "df10[0].to_json('1978.json')\n",
    "data10 = pd.read_json('1978.json')\n",
    "data10 = pd.DataFrame(data10)\n",
    "data10 = data10.drop(data10.columns[[0,1,3,4,5,6,7,8,9,10,11,12,13,14,15,16,17,18,19]], axis = 1)\n",
    "data10 = data10.drop(labels=[22,23], axis=0)\n",
    "data10 = round(data10.describe())\n",
    "data10 = data10.rename(columns={str(('Unnamed: 2_level_0', 'Age')):'Age'})\n",
    "data10 = data10.Age.values.tolist()\n",
    "print(data10)\n",
    "print(type(data10))"
   ]
  },
  {
   "cell_type": "code",
   "execution_count": 167,
   "metadata": {},
   "outputs": [
    {
     "name": "stdout",
     "output_type": "stream",
     "text": [
      "[22.0, 27.0, 3.0, 22.0, 25.0, 27.0, 29.0, 30.0]\n",
      "<class 'list'>\n"
     ]
    }
   ],
   "source": [
    "#1974 Data\n",
    "\n",
    "import pandas as pd\n",
    "\n",
    "df11 = pd.read_html('https://fbref.com/en/squads/c1e40422/1974/Germany-Men-Stats')\n",
    "df11[0].to_json('1974.json')\n",
    "data11 = pd.read_json('1974.json')\n",
    "data11 = pd.DataFrame(data11)\n",
    "data11 = data11.drop(data11.columns[[0,1,3,4,5,6,7,8,9,10,11,12,13,14,15,16,17,18,19]], axis = 1)\n",
    "data11 = data11.drop(labels=[23,22], axis=0)\n",
    "data11 = round(data11.describe())\n",
    "data11 = data11.rename(columns={str(('Unnamed: 2_level_0', 'Age')):'Age'})\n",
    "data11 = data11.Age.values.tolist()\n",
    "print(data11)\n",
    "print(type(data11))"
   ]
  },
  {
   "cell_type": "code",
   "execution_count": 168,
   "metadata": {},
   "outputs": [
    {
     "name": "stdout",
     "output_type": "stream",
     "text": [
      "[22.0, 25.0, 4.0, 19.0, 22.0, 24.0, 27.0, 32.0]\n",
      "<class 'list'>\n"
     ]
    }
   ],
   "source": [
    "#1970 Data\n",
    "\n",
    "import pandas as pd\n",
    "\n",
    "df12 = pd.read_html('https://fbref.com/en/squads/304635c3/1970/Brazil-Men-Stats')\n",
    "df12[0].to_json('1970.json')\n",
    "data12 = pd.read_json('1970.json')\n",
    "data12 = pd.DataFrame(data12)\n",
    "data12 = data12.drop(data12.columns[[0,1,3,4,5,6,7,8,9,10,11,12,13,14,15,16,17,18,19]], axis = 1)\n",
    "data12 = data12.drop(labels=[23,22], axis=0)\n",
    "data12 = round(data12.describe())\n",
    "data12 = data12.rename(columns={str(('Unnamed: 2_level_0', 'Age')):'Age'})\n",
    "data12 = data12.Age.values.tolist()\n",
    "print(data12)\n",
    "print(type(data12))"
   ]
  },
  {
   "cell_type": "code",
   "execution_count": 169,
   "metadata": {},
   "outputs": [
    {
     "name": "stdout",
     "output_type": "stream",
     "text": [
      "[22.0, 27.0, 3.0, 21.0, 24.0, 27.0, 29.0, 31.0]\n",
      "<class 'list'>\n"
     ]
    }
   ],
   "source": [
    "#1966 Data\n",
    "\n",
    "import pandas as pd\n",
    "\n",
    "df13 = pd.read_html('https://fbref.com/en/squads/1862c019/1966/England-Men-Stats')\n",
    "df13[0].to_json('1966.json')\n",
    "data13 = pd.read_json('1966.json')\n",
    "data13 = pd.DataFrame(data13)\n",
    "data13 = data13.drop(data13.columns[[0,1,3,4,5,6,7,8,9,10,11,12,13,14,15,16,17,18,19]], axis = 1)\n",
    "data13 = data13.drop(labels=[23,22], axis=0)\n",
    "\n",
    "data13 = round(data13.describe())\n",
    "data13 = data13.rename(columns={str(('Unnamed: 2_level_0', 'Age')):'Age'})\n",
    "data13 = data13.Age.values.tolist()\n",
    "print(data13)\n",
    "print(type(data13))"
   ]
  },
  {
   "cell_type": "code",
   "execution_count": 170,
   "metadata": {},
   "outputs": [
    {
     "name": "stdout",
     "output_type": "stream",
     "text": [
      "[22.0, 27.0, 5.0, 19.0, 22.0, 28.0, 31.0, 37.0]\n",
      "<class 'list'>\n"
     ]
    }
   ],
   "source": [
    "#1962 Data\n",
    "\n",
    "import pandas as pd\n",
    "\n",
    "df14 = pd.read_html('https://fbref.com/en/squads/304635c3/1962/Brazil-Men-Stats')\n",
    "df14[0].to_json('1962.json')\n",
    "data14 = pd.read_json('1962.json')\n",
    "data14 = pd.DataFrame(data14)\n",
    "data14 = data14.drop(data14.columns[[0,1,3,4,5,6,7,8,9,10,11,12,13,14,15,16,17,18,19]], axis = 1)\n",
    "data14 = data14.drop(labels=[23,22], axis=0)\n",
    "data14 = round(data14.describe())\n",
    "data14 = data14.rename(columns={str(('Unnamed: 2_level_0', 'Age')):'Age'})\n",
    "data14 = data14.Age.values.tolist()\n",
    "print(data14)\n",
    "print(type(data14))"
   ]
  },
  {
   "cell_type": "code",
   "execution_count": 171,
   "metadata": {},
   "outputs": [
    {
     "name": "stdout",
     "output_type": "stream",
     "text": [
      "[22.0, 25.0, 4.0, 17.0, 23.0, 26.0, 27.0, 33.0]\n",
      "<class 'list'>\n"
     ]
    }
   ],
   "source": [
    "#1958 Data\n",
    "\n",
    "import pandas as pd\n",
    "\n",
    "df15 = pd.read_html('https://fbref.com/en/squads/304635c3/1958/Brazil-Men-Stats')\n",
    "df15[0].to_json('1958.json')\n",
    "data15 = pd.read_json('1958.json')\n",
    "data15 = pd.DataFrame(data15)\n",
    "data15 = data15.drop(data15.columns[[0,1,3,4,5,6,7,8,9,10,11,12,13,14,15,16,17,18,19]], axis = 1)\n",
    "data15 = data15.drop(labels=[23,22], axis=0)\n",
    "\n",
    "data15 = round(data15.describe())\n",
    "data15 = data15.rename(columns={str(('Unnamed: 2_level_0', 'Age')):'Age'})\n",
    "data15 = data15.Age.values.tolist()\n",
    "print(data15)\n",
    "print(type(data15))"
   ]
  },
  {
   "cell_type": "code",
   "execution_count": 172,
   "metadata": {},
   "outputs": [
    {
     "name": "stdout",
     "output_type": "stream",
     "text": [
      "[22.0, 27.0, 4.0, 20.0, 25.0, 27.0, 30.0, 35.0]\n",
      "<class 'list'>\n"
     ]
    }
   ],
   "source": [
    "#1954 Data\n",
    "\n",
    "import pandas as pd\n",
    "\n",
    "df16 = pd.read_html('https://fbref.com/en/squads/c1e40422/1954/Germany-Men-Stats')\n",
    "df16[0].to_json('1954.json')\n",
    "data16 = pd.read_json('1954.json')\n",
    "data16 = pd.DataFrame(data16)\n",
    "data16 = data16.drop(data16.columns[[0,1,3,4,5,6,7,8,9,10,11,12,13,14,15,16,17,18,19]], axis = 1)\n",
    "data16 = data16.drop(labels=[23,22], axis=0)\n",
    "data16 = round(data16.describe())\n",
    "data16 = data16.rename(columns={str(('Unnamed: 2_level_0', 'Age')):'Age'})\n",
    "data16 = data16.Age.values.tolist()\n",
    "print(data16)\n",
    "print(type(data16))"
   ]
  },
  {
   "cell_type": "code",
   "execution_count": 173,
   "metadata": {},
   "outputs": [
    {
     "name": "stdout",
     "output_type": "stream",
     "text": [
      "[22.0, 25.0, 4.0, 19.0, 22.0, 24.0, 28.0, 33.0]\n",
      "<class 'list'>\n"
     ]
    }
   ],
   "source": [
    "#1950 Data\n",
    "\n",
    "import pandas as pd\n",
    "\n",
    "df17 = pd.read_html('https://fbref.com/en/squads/870e020f/1950/Uruguay-Men-Stats')\n",
    "df17[0].to_json('1950.json')\n",
    "data17 = pd.read_json('1950.json')\n",
    "data17 = pd.DataFrame(data17)\n",
    "data17 = data17.drop(data17.columns[[0,1,3,4,5,6,7,8,9,10,11,12,13,14,15,16,17,18,19]], axis = 1)\n",
    "data17 = data17.drop(labels=[23,22], axis=0)\n",
    "data17 = round(data17.describe())\n",
    "data17 = data17.rename(columns={str(('Unnamed: 2_level_0', 'Age')):'Age'})\n",
    "data17 = data17.Age.values.tolist()\n",
    "print(data17)\n",
    "print(type(data17))"
   ]
  },
  {
   "cell_type": "code",
   "execution_count": 174,
   "metadata": {},
   "outputs": [
    {
     "name": "stdout",
     "output_type": "stream",
     "text": [
      "[22.0, 26.0, 3.0, 22.0, 23.0, 26.0, 27.0, 32.0]\n",
      "<class 'list'>\n"
     ]
    }
   ],
   "source": [
    "#1938 Data\n",
    "\n",
    "import pandas as pd\n",
    "\n",
    "df18 = pd.read_html('https://fbref.com/en/squads/998c5958/1938/Italy-Men-Stats')\n",
    "df18[0].to_json('1938.json')\n",
    "data18 = pd.read_json('1938.json')\n",
    "data18 = pd.DataFrame(data18)\n",
    "data18 = data18.drop(data18.columns[[0,1,3,4,5,6,7,8,9,10,11,12,13,14,15,16,17,18,19]], axis = 1)\n",
    "data18 = data18.drop(labels=[23,22], axis=0)\n",
    "data18 = round(data18.describe())\n",
    "data18 = data18.rename(columns={str(('Unnamed: 2_level_0', 'Age')):'Age'})\n",
    "data18 = data18.Age.values.tolist()\n",
    "print(data18)\n",
    "print(type(data18))"
   ]
  },
  {
   "cell_type": "code",
   "execution_count": 175,
   "metadata": {},
   "outputs": [
    {
     "name": "stdout",
     "output_type": "stream",
     "text": [
      "[22.0, 28.0, 3.0, 20.0, 25.0, 28.0, 30.0, 33.0]\n",
      "<class 'list'>\n"
     ]
    }
   ],
   "source": [
    "#1934 Data\n",
    "\n",
    "import pandas as pd\n",
    "\n",
    "df19 = pd.read_html('https://fbref.com/en/squads/998c5958/1934/Italy-Men-Stats')\n",
    "df19[0].to_json('1934.json')\n",
    "data19 = pd.read_json('1934.json')\n",
    "data19 = pd.DataFrame(data19)\n",
    "data19 = data19.drop(data19.columns[[0,1,3,4,5,6,7,8,9,10,11,12,13,14,15,16,17,18,19]], axis = 1)\n",
    "data19 = data19.drop(labels=[23,22], axis=0)\n",
    "data19 = round(data19.describe())\n",
    "data19 = data19.rename(columns={str(('Unnamed: 2_level_0', 'Age')):'Age'})\n",
    "data19 = data19.Age.values.tolist()\n",
    "print(data19)\n",
    "print(type(data19))"
   ]
  },
  {
   "cell_type": "code",
   "execution_count": 176,
   "metadata": {},
   "outputs": [
    {
     "name": "stdout",
     "output_type": "stream",
     "text": [
      "[22.0, 26.0, 3.0, 21.0, 24.0, 25.0, 29.0, 31.0]\n",
      "<class 'list'>\n"
     ]
    }
   ],
   "source": [
    "#1930 Data\n",
    "\n",
    "import pandas as pd\n",
    "\n",
    "df20 = pd.read_html('https://fbref.com/en/squads/870e020f/1930/Uruguay-Men-Stats')\n",
    "df20[0].to_json('1930.json')\n",
    "data20 = pd.read_json('1930.json')\n",
    "data20 = pd.DataFrame(data20)\n",
    "data20 = data20.drop(data20.columns[[0,1,3,4,5,6,7,8,9,10,11,12,13,14,15,16,17,18,19]], axis = 1)\n",
    "data20 = data20.drop(labels=[23,22], axis=0)\n",
    "data20 = round(data20.describe())\n",
    "data20 = data20.rename(columns={str(('Unnamed: 2_level_0', 'Age')):'Age'})\n",
    "data20 = data20.Age.values.tolist()\n",
    "print(data20)\n",
    "print(type(data20))"
   ]
  },
  {
   "cell_type": "code",
   "execution_count": 179,
   "metadata": {},
   "outputs": [
    {
     "data": {
      "text/html": [
       "<div>\n",
       "<style scoped>\n",
       "    .dataframe tbody tr th:only-of-type {\n",
       "        vertical-align: middle;\n",
       "    }\n",
       "\n",
       "    .dataframe tbody tr th {\n",
       "        vertical-align: top;\n",
       "    }\n",
       "\n",
       "    .dataframe thead th {\n",
       "        text-align: right;\n",
       "    }\n",
       "</style>\n",
       "<table border=\"1\" class=\"dataframe\">\n",
       "  <thead>\n",
       "    <tr style=\"text-align: right;\">\n",
       "      <th></th>\n",
       "      <th>Age_Age</th>\n",
       "      <th>Fra_Age</th>\n",
       "    </tr>\n",
       "  </thead>\n",
       "  <tbody>\n",
       "    <tr>\n",
       "      <th>count</th>\n",
       "      <td>23.0</td>\n",
       "      <td>23.0</td>\n",
       "    </tr>\n",
       "    <tr>\n",
       "      <th>mean</th>\n",
       "      <td>28.0</td>\n",
       "      <td>27.0</td>\n",
       "    </tr>\n",
       "    <tr>\n",
       "      <th>std</th>\n",
       "      <td>4.0</td>\n",
       "      <td>4.0</td>\n",
       "    </tr>\n",
       "    <tr>\n",
       "      <th>min</th>\n",
       "      <td>22.0</td>\n",
       "      <td>21.0</td>\n",
       "    </tr>\n",
       "    <tr>\n",
       "      <th>25%</th>\n",
       "      <td>26.0</td>\n",
       "      <td>24.0</td>\n",
       "    </tr>\n",
       "    <tr>\n",
       "      <th>50%</th>\n",
       "      <td>28.0</td>\n",
       "      <td>27.0</td>\n",
       "    </tr>\n",
       "    <tr>\n",
       "      <th>75%</th>\n",
       "      <td>30.0</td>\n",
       "      <td>29.0</td>\n",
       "    </tr>\n",
       "    <tr>\n",
       "      <th>max</th>\n",
       "      <td>35.0</td>\n",
       "      <td>35.0</td>\n",
       "    </tr>\n",
       "  </tbody>\n",
       "</table>\n",
       "</div>"
      ],
      "text/plain": [
       "       Age_Age  Fra_Age\n",
       "count     23.0     23.0\n",
       "mean      28.0     27.0\n",
       "std        4.0      4.0\n",
       "min       22.0     21.0\n",
       "25%       26.0     24.0\n",
       "50%       28.0     27.0\n",
       "75%       30.0     29.0\n",
       "max       35.0     35.0"
      ]
     },
     "execution_count": 179,
     "metadata": {},
     "output_type": "execute_result"
    }
   ],
   "source": [
    "\n",
    "France = [35,23,29,26,31,29,26,24,31,35,23,27,22,23,27,27,32,24,21,23,29,29,29]\n",
    "Argentina = [29,25,24,34,30,28,28,26,35,24,34,34,27,29,31,35,28,27,28,22,23,24,28]\n",
    "data = {'Age_Age':Argentina,'Fra_Age':France}\n",
    "data = pd.DataFrame(data)\n",
    "data = round(data.describe())\n",
    "data"
   ]
  },
  {
   "cell_type": "code",
   "execution_count": null,
   "metadata": {},
   "outputs": [
    {
     "data": {
      "text/plain": [
       "<AxesSubplot: xlabel='Ave_Age_Range', ylabel='Count'>"
      ]
     },
     "execution_count": 116,
     "metadata": {},
     "output_type": "execute_result"
    },
    {
     "data": {
      "image/png": "[encoded data removed]",
      "text/plain": [
       "<Figure size 640x480 with 1 Axes>"
      ]
     },
     "metadata": {},
     "output_type": "display_data"
    }
   ],
   "source": [
    "import seaborn as sb\n",
    "import matplotlib.pyplot as plt\n",
    "\n",
    "years =[2018,2014,2010,2006,2002,1998,1994,1990,1986,1982,1978,1974,1970,1966,1962,1958,1954,1950,1938,1934,1930]\n",
    "ave =[26,27,26,28,26,27,28,27,26,27,26,27,25,27,27,25,27,25,26,28,26]\n",
    "data = {'Years':years,'Ave_Age_Range':ave}\n",
    "data= pd.DataFrame(data)\n",
    "sb.histplot(data=data, x=\"Age_\", bins=30)"
   ]
  },
  {
   "cell_type": "code",
   "execution_count": null,
   "metadata": {},
   "outputs": [],
   "source": []
  }
 ],
 "metadata": {
  "kernelspec": {
   "display_name": "Python 3",
   "language": "python",
   "name": "python3"
  },
  "language_info": {
   "codemirror_mode": {
    "name": "ipython",
    "version": 3
   },
   "file_extension": ".py",
   "mimetype": "text/x-python",
   "name": "python",
   "nbconvert_exporter": "python",
   "pygments_lexer": "ipython3",
   "version": "3.10.6"
  },
  "orig_nbformat": 4,
  "vscode": {
   "interpreter": {
    "hash": "916dbcbb3f70747c44a77c7bcd40155683ae19c65e1c03b4aa3499c5328201f1"
   }
  }
 },
 "nbformat": 4,
 "nbformat_minor": 2
}
